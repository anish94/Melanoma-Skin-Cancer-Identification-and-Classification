{
 "cells": [
  {
   "cell_type": "markdown",
   "metadata": {},
   "source": [
    "<div style=\"text-align: right\">INFO 6105 Data Science Eng Methods and Tools, Final Project</div>\n",
    "<div style=\"text-align: right\">Group 1:</div>\n",
    "<div style=\"text-align: right\">Anish Gupta,  Darasy Reth, Sajida Mohammad, Taneja Shreya</div>\n",
    "<div style=\"text-align: right\">{gupta.anis, reth.d, mohammad.sa, taneja.sh} @husky.neu.edu</div>\n",
    "\n",
    "# Skin Cancer Detection: HAM10000\n",
    "# Convolutional Neural Network"
   ]
  },
  {
   "cell_type": "markdown",
   "metadata": {},
   "source": [
    "$\\begin{pmatrix}\n",
    "Own\\ Code\\ Lines & 60 \\\\\n",
    "External\\ Code\\ Lines & 65 \\\\\n",
    "Existing\\ Accuracy & 77\\%\\ classifying\\ each\\ label\\\\\n",
    "Our\\ Accuracy & 75.5\\% \\\\\n",
    "Time\\ to\\ run & 10\\ min\n",
    "\\end{pmatrix}$"
   ]
  },
  {
   "cell_type": "markdown",
   "metadata": {},
   "source": [
    "### Import necessary packages"
   ]
  },
  {
   "cell_type": "markdown",
   "metadata": {},
   "source": [
    "Tutorioal from the dataset author regarding importing and processing data.\n",
    "\n",
    "Source: https://www.kaggle.com/kmader/dermatology-mnist-loading-and-processing"
   ]
  },
  {
   "cell_type": "code",
   "execution_count": 1,
   "metadata": {},
   "outputs": [
    {
     "name": "stderr",
     "output_type": "stream",
     "text": [
      "Using TensorFlow backend.\n"
     ]
    }
   ],
   "source": [
    "import matplotlib.pyplot as plt\n",
    "import numpy as np\n",
    "import pandas as pd\n",
    "import os\n",
    "from glob import glob\n",
    "import seaborn as sns\n",
    "from PIL import Image\n",
    "np.random.seed(123)\n",
    "from sklearn.preprocessing import label_binarize\n",
    "from sklearn.metrics import confusion_matrix\n",
    "import itertools\n",
    "\n",
    "import keras\n",
    "from keras.utils.np_utils import to_categorical\n",
    "from keras.models import Sequential\n",
    "from keras.layers import Dense, Dropout, Flatten, Conv2D, MaxPool2D\n",
    "from keras import backend as K\n",
    "import itertools\n",
    "from keras.layers.normalization import BatchNormalization\n",
    "from keras.utils.np_utils import to_categorical\n",
    "from keras.optimizers import Adam\n",
    "from keras.preprocessing.image import ImageDataGenerator\n",
    "from keras.callbacks import ReduceLROnPlateau\n",
    "from sklearn.model_selection import train_test_split"
   ]
  },
  {
   "cell_type": "markdown",
   "metadata": {},
   "source": [
    "### Import the dataset\n",
    "\n",
    "#### The dataset can be found on the shared folder that Ravi made since this whole dataset is 2.6GB."
   ]
  },
  {
   "cell_type": "code",
   "execution_count": 2,
   "metadata": {},
   "outputs": [],
   "source": [
    "data_dir = 'Project_gc_1' # Base folder directory\n",
    "\n",
    "imageid_path_dict = {os.path.splitext(os.path.basename(x))[0]: x\n",
    "                     for x in glob(os.path.join(data_dir ,'*' ,'*.jpg'))}\n",
    "lesion_type_dict = {\n",
    "    'nv': 'Melanocytic nevi',\n",
    "    'mel': 'Melanoma',\n",
    "    'bkl': 'Benign keratosis-like lesions ',\n",
    "    'bcc': 'Basal cell carcinoma',\n",
    "    'akiec': 'Actinic keratoses',\n",
    "    'vasc': 'Vascular lesions',\n",
    "    'df': 'Dermatofibroma'\n",
    "}"
   ]
  },
  {
   "cell_type": "code",
   "execution_count": 3,
   "metadata": {},
   "outputs": [
    {
     "data": {
      "text/html": [
       "<div>\n",
       "<style scoped>\n",
       "    .dataframe tbody tr th:only-of-type {\n",
       "        vertical-align: middle;\n",
       "    }\n",
       "\n",
       "    .dataframe tbody tr th {\n",
       "        vertical-align: top;\n",
       "    }\n",
       "\n",
       "    .dataframe thead th {\n",
       "        text-align: right;\n",
       "    }\n",
       "</style>\n",
       "<table border=\"1\" class=\"dataframe\">\n",
       "  <thead>\n",
       "    <tr style=\"text-align: right;\">\n",
       "      <th></th>\n",
       "      <th>lesion_id</th>\n",
       "      <th>image_id</th>\n",
       "      <th>dx</th>\n",
       "      <th>dx_type</th>\n",
       "      <th>age</th>\n",
       "      <th>sex</th>\n",
       "      <th>localization</th>\n",
       "    </tr>\n",
       "  </thead>\n",
       "  <tbody>\n",
       "    <tr>\n",
       "      <th>0</th>\n",
       "      <td>HAM_0000118</td>\n",
       "      <td>ISIC_0027419</td>\n",
       "      <td>bkl</td>\n",
       "      <td>histo</td>\n",
       "      <td>80.0</td>\n",
       "      <td>male</td>\n",
       "      <td>scalp</td>\n",
       "    </tr>\n",
       "    <tr>\n",
       "      <th>1</th>\n",
       "      <td>HAM_0000118</td>\n",
       "      <td>ISIC_0025030</td>\n",
       "      <td>bkl</td>\n",
       "      <td>histo</td>\n",
       "      <td>80.0</td>\n",
       "      <td>male</td>\n",
       "      <td>scalp</td>\n",
       "    </tr>\n",
       "    <tr>\n",
       "      <th>2</th>\n",
       "      <td>HAM_0002730</td>\n",
       "      <td>ISIC_0026769</td>\n",
       "      <td>bkl</td>\n",
       "      <td>histo</td>\n",
       "      <td>80.0</td>\n",
       "      <td>male</td>\n",
       "      <td>scalp</td>\n",
       "    </tr>\n",
       "    <tr>\n",
       "      <th>3</th>\n",
       "      <td>HAM_0002730</td>\n",
       "      <td>ISIC_0025661</td>\n",
       "      <td>bkl</td>\n",
       "      <td>histo</td>\n",
       "      <td>80.0</td>\n",
       "      <td>male</td>\n",
       "      <td>scalp</td>\n",
       "    </tr>\n",
       "    <tr>\n",
       "      <th>4</th>\n",
       "      <td>HAM_0001466</td>\n",
       "      <td>ISIC_0031633</td>\n",
       "      <td>bkl</td>\n",
       "      <td>histo</td>\n",
       "      <td>75.0</td>\n",
       "      <td>male</td>\n",
       "      <td>ear</td>\n",
       "    </tr>\n",
       "  </tbody>\n",
       "</table>\n",
       "</div>"
      ],
      "text/plain": [
       "     lesion_id      image_id   dx dx_type   age   sex localization\n",
       "0  HAM_0000118  ISIC_0027419  bkl   histo  80.0  male        scalp\n",
       "1  HAM_0000118  ISIC_0025030  bkl   histo  80.0  male        scalp\n",
       "2  HAM_0002730  ISIC_0026769  bkl   histo  80.0  male        scalp\n",
       "3  HAM_0002730  ISIC_0025661  bkl   histo  80.0  male        scalp\n",
       "4  HAM_0001466  ISIC_0031633  bkl   histo  75.0  male          ear"
      ]
     },
     "execution_count": 3,
     "metadata": {},
     "output_type": "execute_result"
    }
   ],
   "source": [
    "# Reading Metadata\n",
    "skin_df = pd.read_csv(os.path.join(data_dir, 'HAM10000_metadata.csv'))\n",
    "skin_df.head()"
   ]
  },
  {
   "cell_type": "markdown",
   "metadata": {},
   "source": [
    "### Prepare the data"
   ]
  },
  {
   "cell_type": "code",
   "execution_count": 4,
   "metadata": {},
   "outputs": [
    {
     "data": {
      "text/html": [
       "<div>\n",
       "<style scoped>\n",
       "    .dataframe tbody tr th:only-of-type {\n",
       "        vertical-align: middle;\n",
       "    }\n",
       "\n",
       "    .dataframe tbody tr th {\n",
       "        vertical-align: top;\n",
       "    }\n",
       "\n",
       "    .dataframe thead th {\n",
       "        text-align: right;\n",
       "    }\n",
       "</style>\n",
       "<table border=\"1\" class=\"dataframe\">\n",
       "  <thead>\n",
       "    <tr style=\"text-align: right;\">\n",
       "      <th></th>\n",
       "      <th>lesion_id</th>\n",
       "      <th>image_id</th>\n",
       "      <th>dx</th>\n",
       "      <th>dx_type</th>\n",
       "      <th>age</th>\n",
       "      <th>sex</th>\n",
       "      <th>localization</th>\n",
       "      <th>path</th>\n",
       "      <th>cell_type</th>\n",
       "      <th>cell_type_idx</th>\n",
       "      <th>cancerous_status</th>\n",
       "    </tr>\n",
       "  </thead>\n",
       "  <tbody>\n",
       "    <tr>\n",
       "      <th>0</th>\n",
       "      <td>HAM_0000118</td>\n",
       "      <td>ISIC_0027419</td>\n",
       "      <td>bkl</td>\n",
       "      <td>histo</td>\n",
       "      <td>80.0</td>\n",
       "      <td>male</td>\n",
       "      <td>scalp</td>\n",
       "      <td>Project_gc_1/HAM10000_images_part_1/ISIC_00274...</td>\n",
       "      <td>Benign keratosis-like lesions</td>\n",
       "      <td>2</td>\n",
       "      <td>0</td>\n",
       "    </tr>\n",
       "    <tr>\n",
       "      <th>1</th>\n",
       "      <td>HAM_0000118</td>\n",
       "      <td>ISIC_0025030</td>\n",
       "      <td>bkl</td>\n",
       "      <td>histo</td>\n",
       "      <td>80.0</td>\n",
       "      <td>male</td>\n",
       "      <td>scalp</td>\n",
       "      <td>Project_gc_1/HAM10000_images_part_1/ISIC_00250...</td>\n",
       "      <td>Benign keratosis-like lesions</td>\n",
       "      <td>2</td>\n",
       "      <td>0</td>\n",
       "    </tr>\n",
       "    <tr>\n",
       "      <th>2</th>\n",
       "      <td>HAM_0002730</td>\n",
       "      <td>ISIC_0026769</td>\n",
       "      <td>bkl</td>\n",
       "      <td>histo</td>\n",
       "      <td>80.0</td>\n",
       "      <td>male</td>\n",
       "      <td>scalp</td>\n",
       "      <td>Project_gc_1/HAM10000_images_part_1/ISIC_00267...</td>\n",
       "      <td>Benign keratosis-like lesions</td>\n",
       "      <td>2</td>\n",
       "      <td>0</td>\n",
       "    </tr>\n",
       "    <tr>\n",
       "      <th>3</th>\n",
       "      <td>HAM_0002730</td>\n",
       "      <td>ISIC_0025661</td>\n",
       "      <td>bkl</td>\n",
       "      <td>histo</td>\n",
       "      <td>80.0</td>\n",
       "      <td>male</td>\n",
       "      <td>scalp</td>\n",
       "      <td>Project_gc_1/HAM10000_images_part_1/ISIC_00256...</td>\n",
       "      <td>Benign keratosis-like lesions</td>\n",
       "      <td>2</td>\n",
       "      <td>0</td>\n",
       "    </tr>\n",
       "    <tr>\n",
       "      <th>4</th>\n",
       "      <td>HAM_0001466</td>\n",
       "      <td>ISIC_0031633</td>\n",
       "      <td>bkl</td>\n",
       "      <td>histo</td>\n",
       "      <td>75.0</td>\n",
       "      <td>male</td>\n",
       "      <td>ear</td>\n",
       "      <td>Project_gc_1/HAM10000_images_part_2/ISIC_00316...</td>\n",
       "      <td>Benign keratosis-like lesions</td>\n",
       "      <td>2</td>\n",
       "      <td>0</td>\n",
       "    </tr>\n",
       "  </tbody>\n",
       "</table>\n",
       "</div>"
      ],
      "text/plain": [
       "     lesion_id      image_id   dx dx_type   age   sex localization  \\\n",
       "0  HAM_0000118  ISIC_0027419  bkl   histo  80.0  male        scalp   \n",
       "1  HAM_0000118  ISIC_0025030  bkl   histo  80.0  male        scalp   \n",
       "2  HAM_0002730  ISIC_0026769  bkl   histo  80.0  male        scalp   \n",
       "3  HAM_0002730  ISIC_0025661  bkl   histo  80.0  male        scalp   \n",
       "4  HAM_0001466  ISIC_0031633  bkl   histo  75.0  male          ear   \n",
       "\n",
       "                                                path  \\\n",
       "0  Project_gc_1/HAM10000_images_part_1/ISIC_00274...   \n",
       "1  Project_gc_1/HAM10000_images_part_1/ISIC_00250...   \n",
       "2  Project_gc_1/HAM10000_images_part_1/ISIC_00267...   \n",
       "3  Project_gc_1/HAM10000_images_part_1/ISIC_00256...   \n",
       "4  Project_gc_1/HAM10000_images_part_2/ISIC_00316...   \n",
       "\n",
       "                        cell_type  cell_type_idx  cancerous_status  \n",
       "0  Benign keratosis-like lesions               2                 0  \n",
       "1  Benign keratosis-like lesions               2                 0  \n",
       "2  Benign keratosis-like lesions               2                 0  \n",
       "3  Benign keratosis-like lesions               2                 0  \n",
       "4  Benign keratosis-like lesions               2                 0  "
      ]
     },
     "execution_count": 4,
     "metadata": {},
     "output_type": "execute_result"
    }
   ],
   "source": [
    "# Creating New Columns for better readability\n",
    "skin_df['path'] = skin_df['image_id'].map(imageid_path_dict.get)\n",
    "skin_df['cell_type'] = skin_df['dx'].map(lesion_type_dict.get)\n",
    "skin_df['cell_type_idx'] = pd.Categorical(skin_df['cell_type']).codes\n",
    "\n",
    "'''\n",
    "0: No cancerous\n",
    "1: Cancerous\n",
    "\n",
    "Melanocytic nevi (cancerous)\n",
    "Melanoma (cancerous)\n",
    "Dermatofibroma (non-cancerous)\n",
    "Benign keratosis-like lesions (non-cancerous)\n",
    "Basal cell carcinoma (cancerous)\n",
    "Vascular lesio150ns (cancerous)\n",
    "Actinic keratoses and intraepithelial carcinoma / Bowen's disease (cancerous)\n",
    "'''\n",
    "\n",
    "skin_df['cancerous_status'] = [1 if (skin_df['cell_type'][i] == \"Melanocytic nevi\" or\n",
    "                                   skin_df['cell_type'][i] == \"Melanoma\" or\n",
    "                                   skin_df['cell_type'][i] == \"Basal cell carcinoma\" or\n",
    "                                   skin_df['cell_type'][i] == \"Vascular lesions\" or\n",
    "                                   skin_df['cell_type'][i] == \"ctinic keratoses and intraepithelial carcinoma / Bowen's disease\")\n",
    "                               else 0 \n",
    "                               for i in range(0, len(skin_df['cell_type']))\n",
    "                              ]\n",
    "skin_df.head()"
   ]
  },
  {
   "cell_type": "code",
   "execution_count": 5,
   "metadata": {},
   "outputs": [
    {
     "data": {
      "text/plain": [
       "<matplotlib.axes._subplots.AxesSubplot at 0x7f479a8d8e10>"
      ]
     },
     "execution_count": 5,
     "metadata": {},
     "output_type": "execute_result"
    },
    {
     "data": {
      "image/png": "[encoded data removed]",
      "text/plain": [
       "<Figure size 720x360 with 1 Axes>"
      ]
     },
     "metadata": {
      "needs_background": "light"
     },
     "output_type": "display_data"
    }
   ],
   "source": [
    "axis = plt.subplots(1, 1, figsize= (10, 5))[1]\n",
    "skin_df['cell_type'].value_counts().plot(kind='bar', ax=axis)"
   ]
  },
  {
   "cell_type": "code",
   "execution_count": 6,
   "metadata": {},
   "outputs": [
    {
     "data": {
      "text/plain": [
       "<matplotlib.axes._subplots.AxesSubplot at 0x7f479a578748>"
      ]
     },
     "execution_count": 6,
     "metadata": {},
     "output_type": "execute_result"
    },
    {
     "data": {
      "image/png": "[encoded data removed]",
      "text/plain": [
       "<Figure size 720x360 with 1 Axes>"
      ]
     },
     "metadata": {
      "needs_background": "light"
     },
     "output_type": "display_data"
    }
   ],
   "source": [
    "axis = plt.subplots(1, 1, figsize= (10, 5))[1]\n",
    "skin_df['cancerous_status'].value_counts().plot(kind='bar', ax=axis)"
   ]
  },
  {
   "cell_type": "markdown",
   "metadata": {},
   "source": [
    "We can see from the graph above that \"Melanocytic nevi\" dominate other classes significantly which cause a problem of imbalanced data where Melanocytic nevi will affect the prediction of other skin cancer classes."
   ]
  },
  {
   "cell_type": "markdown",
   "metadata": {},
   "source": [
    "Reducing \"Melanocytic nevi\" data method\n",
    "\n",
    "Source: https://www.kaggle.com/yuningalexliu/dermatology-image-classification"
   ]
  },
  {
   "cell_type": "code",
   "execution_count": 7,
   "metadata": {},
   "outputs": [
    {
     "data": {
      "text/plain": [
       "<matplotlib.axes._subplots.AxesSubplot at 0x7f479a4fa710>"
      ]
     },
     "execution_count": 7,
     "metadata": {},
     "output_type": "execute_result"
    },
    {
     "data": {
      "image/png": "[encoded data removed]",
      "text/plain": [
       "<Figure size 720x360 with 1 Axes>"
      ]
     },
     "metadata": {
      "needs_background": "light"
     },
     "output_type": "display_data"
    }
   ],
   "source": [
    "skin_df = skin_df.drop(skin_df[skin_df.cell_type_idx == 4].iloc[:5500].index)\n",
    "# The new distribution of different cell types after reducing cell index '4'\n",
    "axis = plt.subplots(1, 1, figsize= (10, 5))[1]\n",
    "skin_df['cell_type'].value_counts().plot(kind='bar', ax=axis)"
   ]
  },
  {
   "cell_type": "code",
   "execution_count": 8,
   "metadata": {},
   "outputs": [
    {
     "data": {
      "text/plain": [
       "<matplotlib.axes._subplots.AxesSubplot at 0x7f479a5785f8>"
      ]
     },
     "execution_count": 8,
     "metadata": {},
     "output_type": "execute_result"
    },
    {
     "data": {
      "image/png": "[encoded data removed]",
      "text/plain": [
       "<Figure size 720x360 with 1 Axes>"
      ]
     },
     "metadata": {
      "needs_background": "light"
     },
     "output_type": "display_data"
    }
   ],
   "source": [
    "axis = plt.subplots(1, 1, figsize= (10, 5))[1]\n",
    "skin_df['cancerous_status'].value_counts().plot(kind='bar', ax=axis)"
   ]
  },
  {
   "cell_type": "markdown",
   "metadata": {},
   "source": [
    "While these data indicates an imbalanced dataset, this is still better since data of \"Melanocytic nevi\" now does not dominate other skin cancer data too much as shown previously."
   ]
  },
  {
   "cell_type": "code",
   "execution_count": 9,
   "metadata": {},
   "outputs": [],
   "source": [
    "#resizing images\n",
    "skin_df['image'] = skin_df['path'].map(lambda x: np.asarray(Image.open(x).resize((100, 75))))"
   ]
  },
  {
   "cell_type": "code",
   "execution_count": 10,
   "metadata": {},
   "outputs": [],
   "source": [
    "target = skin_df['cancerous_status']"
   ]
  },
  {
   "cell_type": "code",
   "execution_count": 11,
   "metadata": {},
   "outputs": [],
   "source": [
    "features = skin_df.drop(columns=['cancerous_status'],axis=1)"
   ]
  },
  {
   "cell_type": "markdown",
   "metadata": {},
   "source": [
    "### Split the dataset into training data (80%) and testing data (20%)"
   ]
  },
  {
   "cell_type": "markdown",
   "metadata": {},
   "source": [
    "We split the data into 80% for training and 20% for testing using the random state generator of 42."
   ]
  },
  {
   "cell_type": "code",
   "execution_count": 12,
   "metadata": {},
   "outputs": [],
   "source": [
    "skin_train_o, skin_test_o, skin_label_train_o, skin_label_test_o = train_test_split(features, target, test_size = 0.2, random_state=42)"
   ]
  },
  {
   "cell_type": "markdown",
   "metadata": {},
   "source": [
    "### Normalization"
   ]
  },
  {
   "cell_type": "code",
   "execution_count": 13,
   "metadata": {},
   "outputs": [],
   "source": [
    "# Use only an image as a feature\n",
    "x_train = np.asarray(skin_train_o['image'].tolist())\n",
    "x_test = np.asarray(skin_test_o['image'].tolist())\n",
    "\n",
    "x_train_mean = np.mean(x_train)\n",
    "x_train_std = np.std(x_train)\n",
    "\n",
    "x_test_mean = np.mean(x_test)\n",
    "x_test_std = np.std(x_test)\n",
    "\n",
    "x_train = (x_train - x_train_mean)/x_train_std\n",
    "x_test = (x_test - x_test_mean)/x_test_std"
   ]
  },
  {
   "cell_type": "code",
   "execution_count": 14,
   "metadata": {},
   "outputs": [],
   "source": [
    "# Hot encoding\n",
    "y_train = to_categorical(skin_label_train_o, num_classes = 2)\n",
    "y_test = to_categorical(skin_label_test_o, num_classes = 2)"
   ]
  },
  {
   "cell_type": "code",
   "execution_count": 15,
   "metadata": {},
   "outputs": [
    {
     "data": {
      "text/plain": [
       "(3612, 75, 100, 3)"
      ]
     },
     "execution_count": 15,
     "metadata": {},
     "output_type": "execute_result"
    }
   ],
   "source": [
    "x_train.shape"
   ]
  },
  {
   "cell_type": "markdown",
   "metadata": {},
   "source": [
    "### Build Convolutional Neural Network Classifer "
   ]
  },
  {
   "cell_type": "code",
   "execution_count": 16,
   "metadata": {},
   "outputs": [
    {
     "name": "stdout",
     "output_type": "stream",
     "text": [
      "WARNING:tensorflow:From /home/darasy/anaconda3/lib/python3.7/site-packages/tensorflow/python/framework/op_def_library.py:263: colocate_with (from tensorflow.python.framework.ops) is deprecated and will be removed in a future version.\n",
      "Instructions for updating:\n",
      "Colocations handled automatically by placer.\n",
      "WARNING:tensorflow:From /home/darasy/anaconda3/lib/python3.7/site-packages/keras/backend/tensorflow_backend.py:3445: calling dropout (from tensorflow.python.ops.nn_ops) with keep_prob is deprecated and will be removed in a future version.\n",
      "Instructions for updating:\n",
      "Please use `rate` instead of `keep_prob`. Rate should be set to `rate = 1 - keep_prob`.\n"
     ]
    }
   ],
   "source": [
    "# Import scikit-learn metrics module for accuracy calculation\n",
    "from sklearn import metrics\n",
    "\n",
    "cnn = Sequential()\n",
    "\n",
    "cnn.add(Conv2D(32, kernel_size=(3, 3), activation='relu', input_shape=(75, 100, 3)))\n",
    "# Convolutional Layer 1\n",
    "cnn.add(Conv2D(64, (3, 3), activation='relu')) # Apply RELU\n",
    "cnn.add(MaxPool2D(pool_size=(2, 2)))\n",
    "cnn.add(Dropout(0.5))\n",
    "\n",
    "# Convolutional Layer 2\n",
    "cnn.add(Conv2D(64, (3, 3), activation='relu')) # Apply RELU\n",
    "cnn.add(MaxPool2D(pool_size=(2, 2)))\n",
    "cnn.add(Dropout(0.5))\n",
    "\n",
    "cnn.add(Flatten()) # Flatten\n",
    "cnn.add(Dense(128, activation='relu')) # Fully Connected Layer\n",
    "cnn.add(Dropout(0.5))\n",
    "\n",
    "# Applying softmax\n",
    "cnn.add(Dense(2, activation='softmax')) # Apply Softmax"
   ]
  },
  {
   "cell_type": "code",
   "execution_count": 17,
   "metadata": {},
   "outputs": [],
   "source": [
    "# Compile the model using categorical_crossentropy and adam optimizer\n",
    "cnn.compile(loss=keras.losses.categorical_crossentropy, metrics=['accuracy'], optimizer='adam')"
   ]
  },
  {
   "cell_type": "code",
   "execution_count": 18,
   "metadata": {},
   "outputs": [
    {
     "name": "stdout",
     "output_type": "stream",
     "text": [
      "WARNING:tensorflow:From /home/darasy/anaconda3/lib/python3.7/site-packages/tensorflow/python/ops/math_ops.py:3066: to_int32 (from tensorflow.python.ops.math_ops) is deprecated and will be removed in a future version.\n",
      "Instructions for updating:\n",
      "Use tf.cast instead.\n",
      "Train on 3612 samples, validate on 903 samples\n",
      "Epoch 1/12\n",
      "3612/3612 [==============================] - 46s 13ms/step - loss: 0.7588 - acc: 0.6459 - val_loss: 0.6348 - val_acc: 0.6523\n",
      "Epoch 2/12\n",
      "3612/3612 [==============================] - 39s 11ms/step - loss: 0.5826 - acc: 0.6728 - val_loss: 0.6257 - val_acc: 0.6777\n",
      "Epoch 3/12\n",
      "3612/3612 [==============================] - 39s 11ms/step - loss: 0.5890 - acc: 0.6880 - val_loss: 0.5987 - val_acc: 0.6788\n",
      "Epoch 4/12\n",
      "3612/3612 [==============================] - 39s 11ms/step - loss: 0.5730 - acc: 0.6988 - val_loss: 0.5830 - val_acc: 0.6955\n",
      "Epoch 5/12\n",
      "3612/3612 [==============================] - 40s 11ms/step - loss: 0.5690 - acc: 0.7040 - val_loss: 0.5959 - val_acc: 0.7099\n",
      "Epoch 6/12\n",
      "3612/3612 [==============================] - 39s 11ms/step - loss: 0.5408 - acc: 0.7176 - val_loss: 0.6045 - val_acc: 0.6899\n",
      "Epoch 7/12\n",
      "3612/3612 [==============================] - 39s 11ms/step - loss: 0.5395 - acc: 0.7182 - val_loss: 0.5810 - val_acc: 0.7165\n",
      "Epoch 8/12\n",
      "3612/3612 [==============================] - 39s 11ms/step - loss: 0.5190 - acc: 0.7425 - val_loss: 0.5417 - val_acc: 0.7331\n",
      "Epoch 9/12\n",
      "3612/3612 [==============================] - 39s 11ms/step - loss: 0.5214 - acc: 0.7375 - val_loss: 0.5445 - val_acc: 0.7386\n",
      "Epoch 10/12\n",
      "3612/3612 [==============================] - 39s 11ms/step - loss: 0.5126 - acc: 0.7542 - val_loss: 0.5465 - val_acc: 0.7386\n",
      "Epoch 11/12\n",
      "3612/3612 [==============================] - 39s 11ms/step - loss: 0.4982 - acc: 0.7566 - val_loss: 0.5417 - val_acc: 0.7530\n",
      "Epoch 12/12\n",
      "3612/3612 [==============================] - 39s 11ms/step - loss: 0.4835 - acc: 0.7655 - val_loss: 0.5099 - val_acc: 0.7553\n"
     ]
    }
   ],
   "source": [
    "# from keras.callbacks import EarlyStopping, ModelCheckpoint\n",
    "batch_size = 64\n",
    "epochs = 12\n",
    "\n",
    "history = cnn.fit(x_train, y_train,\n",
    "                  batch_size=batch_size,\n",
    "                  verbose = 1,\n",
    "                  epochs=epochs,\n",
    "                  validation_data=(x_test, y_test))"
   ]
  },
  {
   "cell_type": "markdown",
   "metadata": {},
   "source": [
    "Now let's apply the model on the test data."
   ]
  },
  {
   "cell_type": "code",
   "execution_count": 19,
   "metadata": {},
   "outputs": [
    {
     "name": "stdout",
     "output_type": "stream",
     "text": [
      "Test loss: 0.5098546589595799\n",
      "Test accuracy: 0.7552602438303587\n"
     ]
    }
   ],
   "source": [
    "loss, acc = cnn.evaluate(x_test, y_test, verbose=0)\n",
    "print('Test loss:', loss)\n",
    "print('Test accuracy:', acc)"
   ]
  },
  {
   "cell_type": "markdown",
   "metadata": {},
   "source": [
    "The model works quite well for the testing data with the accuracy of 75.5% and loss with the value of 0.5."
   ]
  },
  {
   "cell_type": "code",
   "execution_count": 20,
   "metadata": {},
   "outputs": [
    {
     "data": {
      "image/png": "[encoded data removed]",
      "text/plain": [
       "<Figure size 432x288 with 2 Axes>"
      ]
     },
     "metadata": {
      "needs_background": "light"
     },
     "output_type": "display_data"
    }
   ],
   "source": [
    "# Loss and accuracy curves for both training and testing data\n",
    "axis = plt.subplots(2,1)[1]\n",
    "axis[0].plot(history.history['loss'], color='b', label=\"Training loss\")\n",
    "axis[0].plot(history.history['val_loss'], color='r', label=\"Validation loss\",axes =axis[0])\n",
    "legend = axis[0].legend(loc='best', shadow=True)\n",
    "\n",
    "axis[1].plot(history.history['acc'], color='b', label=\"Training accuracy\")\n",
    "axis[1].plot(history.history['val_acc'], color='r',label=\"Validation accuracy\")\n",
    "legend = axis[1].legend(loc='best', shadow=True)"
   ]
  },
  {
   "cell_type": "markdown",
   "metadata": {},
   "source": [
    "As the graph shown, the perform of the model works quite in just 12 epochs where both training and testing accuracies improve over time, while both training and testing loss reduce over these 12 steps. At the end of the training, we achieve 75.5% for testing dataset and 76.5% for training dataset where both have loss value less than 0.6 at the end."
   ]
  },
  {
   "cell_type": "code",
   "execution_count": null,
   "metadata": {},
   "outputs": [],
   "source": []
  }
 ],
 "metadata": {
  "kernelspec": {
   "display_name": "Python 3",
   "language": "python",
   "name": "python3"
  },
  "language_info": {
   "codemirror_mode": {
    "name": "ipython",
    "version": 3
   },
   "file_extension": ".py",
   "mimetype": "text/x-python",
   "name": "python",
   "nbconvert_exporter": "python",
   "pygments_lexer": "ipython3",
   "version": "3.7.4"
  }
 },
 "nbformat": 4,
 "nbformat_minor": 2
}
